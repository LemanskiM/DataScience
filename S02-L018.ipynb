{
 "cells": [
  {
   "cell_type": "code",
   "execution_count": 1,
   "metadata": {},
   "outputs": [],
   "source": [
    "import pandas as pd\n",
    "import random as rd"
   ]
  },
  {
   "cell_type": "code",
   "execution_count": 3,
   "metadata": {},
   "outputs": [],
   "source": [
    "ndic = {'PY001':'Airbus 320',\n",
    "        'PY002':'Beoing 737',\n",
    "        'PY003':'Airbus 321'} "
   ]
  },
  {
   "cell_type": "code",
   "execution_count": 4,
   "metadata": {},
   "outputs": [
    {
     "data": {
      "text/plain": [
       "{'PY001': 'Airbus 320', 'PY002': 'Beoing 737', 'PY003': 'Airbus 321'}"
      ]
     },
     "execution_count": 4,
     "metadata": {},
     "output_type": "execute_result"
    }
   ],
   "source": [
    "ndic"
   ]
  },
  {
   "cell_type": "code",
   "execution_count": 5,
   "metadata": {},
   "outputs": [],
   "source": [
    "aircrafts = pd.Series(ndic)"
   ]
  },
  {
   "cell_type": "code",
   "execution_count": 6,
   "metadata": {},
   "outputs": [
    {
     "data": {
      "text/plain": [
       "PY001    Airbus 320\n",
       "PY002    Beoing 737\n",
       "PY003    Airbus 321\n",
       "dtype: object"
      ]
     },
     "execution_count": 6,
     "metadata": {},
     "output_type": "execute_result"
    }
   ],
   "source": [
    "aircrafts"
   ]
  },
  {
   "cell_type": "code",
   "execution_count": 29,
   "metadata": {},
   "outputs": [],
   "source": [
    "fly = []\n",
    "for i in range(100):\n",
    "    fly.append (rd.choice(aircrafts.index))"
   ]
  },
  {
   "cell_type": "code",
   "execution_count": 30,
   "metadata": {},
   "outputs": [
    {
     "data": {
      "text/plain": [
       "['PY002',\n",
       " 'PY002',\n",
       " 'PY003',\n",
       " 'PY001',\n",
       " 'PY001',\n",
       " 'PY002',\n",
       " 'PY002',\n",
       " 'PY003',\n",
       " 'PY003',\n",
       " 'PY001',\n",
       " 'PY003',\n",
       " 'PY003',\n",
       " 'PY001',\n",
       " 'PY002',\n",
       " 'PY002',\n",
       " 'PY001',\n",
       " 'PY002',\n",
       " 'PY001',\n",
       " 'PY002',\n",
       " 'PY001',\n",
       " 'PY002',\n",
       " 'PY001',\n",
       " 'PY001',\n",
       " 'PY001',\n",
       " 'PY001',\n",
       " 'PY003',\n",
       " 'PY001',\n",
       " 'PY002',\n",
       " 'PY001',\n",
       " 'PY002',\n",
       " 'PY003',\n",
       " 'PY003',\n",
       " 'PY003',\n",
       " 'PY002',\n",
       " 'PY002',\n",
       " 'PY003',\n",
       " 'PY003',\n",
       " 'PY003',\n",
       " 'PY002',\n",
       " 'PY003',\n",
       " 'PY002',\n",
       " 'PY003',\n",
       " 'PY003',\n",
       " 'PY001',\n",
       " 'PY001',\n",
       " 'PY003',\n",
       " 'PY003',\n",
       " 'PY003',\n",
       " 'PY003',\n",
       " 'PY001',\n",
       " 'PY001',\n",
       " 'PY002',\n",
       " 'PY001',\n",
       " 'PY001',\n",
       " 'PY003',\n",
       " 'PY002',\n",
       " 'PY003',\n",
       " 'PY001',\n",
       " 'PY001',\n",
       " 'PY001',\n",
       " 'PY003',\n",
       " 'PY001',\n",
       " 'PY002',\n",
       " 'PY001',\n",
       " 'PY002',\n",
       " 'PY001',\n",
       " 'PY003',\n",
       " 'PY001',\n",
       " 'PY001',\n",
       " 'PY003',\n",
       " 'PY002',\n",
       " 'PY003',\n",
       " 'PY001',\n",
       " 'PY002',\n",
       " 'PY003',\n",
       " 'PY002',\n",
       " 'PY002',\n",
       " 'PY002',\n",
       " 'PY003',\n",
       " 'PY002',\n",
       " 'PY002',\n",
       " 'PY001',\n",
       " 'PY003',\n",
       " 'PY003',\n",
       " 'PY003',\n",
       " 'PY001',\n",
       " 'PY001',\n",
       " 'PY002',\n",
       " 'PY002',\n",
       " 'PY002',\n",
       " 'PY003',\n",
       " 'PY002',\n",
       " 'PY003',\n",
       " 'PY001',\n",
       " 'PY003',\n",
       " 'PY001',\n",
       " 'PY003',\n",
       " 'PY002',\n",
       " 'PY002',\n",
       " 'PY001']"
      ]
     },
     "execution_count": 30,
     "metadata": {},
     "output_type": "execute_result"
    }
   ],
   "source": [
    "fly\n"
   ]
  },
  {
   "cell_type": "code",
   "execution_count": 31,
   "metadata": {},
   "outputs": [],
   "source": [
    "x = pd.Series(fly)"
   ]
  },
  {
   "cell_type": "code",
   "execution_count": 32,
   "metadata": {},
   "outputs": [
    {
     "data": {
      "text/plain": [
       "PY001    34\n",
       "PY003    34\n",
       "PY002    32\n",
       "dtype: int64"
      ]
     },
     "execution_count": 32,
     "metadata": {},
     "output_type": "execute_result"
    }
   ],
   "source": [
    "x.value_counts()"
   ]
  },
  {
   "cell_type": "code",
   "execution_count": 22,
   "metadata": {},
   "outputs": [
    {
     "ename": "AttributeError",
     "evalue": "'list' object has no attribute 'value_counts'",
     "output_type": "error",
     "traceback": [
      "\u001b[1;31m---------------------------------------------------------------------------\u001b[0m",
      "\u001b[1;31mAttributeError\u001b[0m                            Traceback (most recent call last)",
      "\u001b[1;32m<ipython-input-22-609386030f6c>\u001b[0m in \u001b[0;36m<module>\u001b[1;34m\u001b[0m\n\u001b[1;32m----> 1\u001b[1;33m \u001b[0mfly\u001b[0m\u001b[1;33m.\u001b[0m\u001b[0mvalue_counts\u001b[0m\u001b[1;33m(\u001b[0m\u001b[1;33m)\u001b[0m\u001b[1;33m\u001b[0m\u001b[1;33m\u001b[0m\u001b[0m\n\u001b[0m",
      "\u001b[1;31mAttributeError\u001b[0m: 'list' object has no attribute 'value_counts'"
     ]
    }
   ],
   "source": [
    "fly.value_counts()"
   ]
  },
  {
   "cell_type": "code",
   "execution_count": 23,
   "metadata": {},
   "outputs": [
    {
     "data": {
      "text/plain": [
       "0     Beoing 737\n",
       "1     Airbus 320\n",
       "2     Airbus 321\n",
       "3     Airbus 320\n",
       "4     Airbus 321\n",
       "         ...    \n",
       "95    Airbus 320\n",
       "96    Beoing 737\n",
       "97    Airbus 320\n",
       "98    Airbus 320\n",
       "99    Beoing 737\n",
       "Length: 100, dtype: object"
      ]
     },
     "execution_count": 23,
     "metadata": {},
     "output_type": "execute_result"
    }
   ],
   "source": [
    "x.map(ndic)"
   ]
  },
  {
   "cell_type": "code",
   "execution_count": null,
   "metadata": {},
   "outputs": [],
   "source": []
  }
 ],
 "metadata": {
  "kernelspec": {
   "display_name": "Python 3",
   "language": "python",
   "name": "python3"
  },
  "language_info": {
   "codemirror_mode": {
    "name": "ipython",
    "version": 3
   },
   "file_extension": ".py",
   "mimetype": "text/x-python",
   "name": "python",
   "nbconvert_exporter": "python",
   "pygments_lexer": "ipython3",
   "version": "3.7.4"
  }
 },
 "nbformat": 4,
 "nbformat_minor": 2
}

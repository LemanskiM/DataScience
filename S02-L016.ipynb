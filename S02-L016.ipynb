{
 "cells": [
  {
   "cell_type": "code",
   "execution_count": 43,
   "metadata": {},
   "outputs": [],
   "source": [
    "import pandas as pd\n",
    "import numpy as np"
   ]
  },
  {
   "cell_type": "code",
   "execution_count": 58,
   "metadata": {},
   "outputs": [],
   "source": [
    "prog = pd.read_csv(\"C:\\ML\\data\\StackOverflowDeveloperSurvey2018.csv\", low_memory = False, usecols = ['ConvertedSalary'],squeeze = True)"
   ]
  },
  {
   "cell_type": "code",
   "execution_count": 59,
   "metadata": {},
   "outputs": [
    {
     "data": {
      "text/plain": [
       "0            NaN\n",
       "1        70841.0\n",
       "2            NaN\n",
       "3            NaN\n",
       "4        21426.0\n",
       "          ...   \n",
       "98850        NaN\n",
       "98851        NaN\n",
       "98852        NaN\n",
       "98853        NaN\n",
       "98854        NaN\n",
       "Name: ConvertedSalary, Length: 98855, dtype: float64"
      ]
     },
     "execution_count": 59,
     "metadata": {},
     "output_type": "execute_result"
    }
   ],
   "source": [
    "prog"
   ]
  },
  {
   "cell_type": "code",
   "execution_count": 60,
   "metadata": {},
   "outputs": [
    {
     "data": {
      "text/plain": [
       "95780.86178776571"
      ]
     },
     "execution_count": 60,
     "metadata": {},
     "output_type": "execute_result"
    }
   ],
   "source": [
    "prog.mean()"
   ]
  },
  {
   "cell_type": "code",
   "execution_count": 61,
   "metadata": {},
   "outputs": [],
   "source": [
    "dna = prog.dropna().mean()"
   ]
  },
  {
   "cell_type": "code",
   "execution_count": 62,
   "metadata": {},
   "outputs": [
    {
     "data": {
      "text/plain": [
       "0    95780.861788\n",
       "dtype: float64"
      ]
     },
     "execution_count": 62,
     "metadata": {},
     "output_type": "execute_result"
    }
   ],
   "source": [
    "pd.Series(dna)"
   ]
  },
  {
   "cell_type": "code",
   "execution_count": 63,
   "metadata": {},
   "outputs": [
    {
     "data": {
      "text/plain": [
       "1         70841.0\n",
       "4         21426.0\n",
       "5         41671.0\n",
       "6        120000.0\n",
       "8        250000.0\n",
       "           ...   \n",
       "89941         0.0\n",
       "89946         0.0\n",
       "89954     10284.0\n",
       "89960         0.0\n",
       "89965         0.0\n",
       "Name: ConvertedSalary, Length: 47702, dtype: float64"
      ]
     },
     "execution_count": 63,
     "metadata": {},
     "output_type": "execute_result"
    }
   ],
   "source": [
    "pd.Series(prog).dropna()"
   ]
  },
  {
   "cell_type": "code",
   "execution_count": 64,
   "metadata": {},
   "outputs": [
    {
     "data": {
      "text/plain": [
       "55075.0"
      ]
     },
     "execution_count": 64,
     "metadata": {},
     "output_type": "execute_result"
    }
   ],
   "source": [
    "prog.median()"
   ]
  },
  {
   "cell_type": "code",
   "execution_count": 65,
   "metadata": {},
   "outputs": [
    {
     "data": {
      "text/plain": [
       "202348.21562528735"
      ]
     },
     "execution_count": 65,
     "metadata": {},
     "output_type": "execute_result"
    }
   ],
   "source": [
    "prog.std()"
   ]
  },
  {
   "cell_type": "code",
   "execution_count": 26,
   "metadata": {},
   "outputs": [
    {
     "data": {
      "text/plain": [
       "2000000.0"
      ]
     },
     "execution_count": 26,
     "metadata": {},
     "output_type": "execute_result"
    }
   ],
   "source": [
    "prog.max()"
   ]
  },
  {
   "cell_type": "code",
   "execution_count": 27,
   "metadata": {},
   "outputs": [
    {
     "data": {
      "text/plain": [
       "0.0"
      ]
     },
     "execution_count": 27,
     "metadata": {},
     "output_type": "execute_result"
    }
   ],
   "source": [
    "prog.min()"
   ]
  },
  {
   "cell_type": "code",
   "execution_count": 55,
   "metadata": {},
   "outputs": [],
   "source": [
    "fortune = pd.read_csv(\"C:\\ML\\data\\Fortune_500_2017.csv\", usecols = ['Title','Employees'], index_col = ['Title'],squeeze = True )"
   ]
  },
  {
   "cell_type": "code",
   "execution_count": 56,
   "metadata": {},
   "outputs": [
    {
     "data": {
      "text/plain": [
       "Title\n",
       "Walmart               2300000\n",
       "Berkshire Hathaway     367700\n",
       "Apple                  116000\n",
       "Exxon Mobil             72700\n",
       "McKesson                68000\n",
       "                       ...   \n",
       "Michaels Cos.           31000\n",
       "Toll Brothers            4200\n",
       "Yahoo                    8500\n",
       "Vistra Energy            4431\n",
       "ABM Industries         110000\n",
       "Name: Employees, Length: 500, dtype: int64"
      ]
     },
     "execution_count": 56,
     "metadata": {},
     "output_type": "execute_result"
    }
   ],
   "source": [
    "fortune"
   ]
  },
  {
   "cell_type": "code",
   "execution_count": 47,
   "metadata": {},
   "outputs": [
    {
     "data": {
      "text/plain": [
       "array([2300000,  367700,  116000,   72700,   68000,  230000,  204000,\n",
       "        225000,  268540,  201000,   18500,  341400,  295000,  160900,\n",
       "         37300,  172000,  300000,  443000,   55200,    7000,  243355,\n",
       "         25600,  406000,  150540,  269100,  208024,   72053,  114000,\n",
       "         53000,  219000,  159000,  414400,   68234,   14800,  126400,\n",
       "        105000,    9996,  323000,    5982,  240000,  138000,   58000,\n",
       "         49500,  264000,   31800,  335520,  106000,   49739,  274000,\n",
       "        201600,   44460,  195000,   51600,   96500,   56400,   97000,\n",
       "         51900,  335767,  195000,   73700,   49000,   56000,  210500,\n",
       "        100300,   11320,   30500,  122300,   34320,   68000,   41000,\n",
       "         83756,  125000,  131000,   95400,   50000,   55311,   11737,\n",
       "         34400,   30992,   12997,  136000,  114000,   88000,   43275,\n",
       "        191000,   56400,  235000,   70700,   34396,   98800,   70580,\n",
       "          9000,   12157,   91584,   25000,   91500,    5646,   17048,\n",
       "         30900,   47300,   21500,   29943,    5000,   79500,   56767,\n",
       "         41000,    9500,   17700,   90000,  148300,   30000,  375000,\n",
       "         46000,   67000,   13300,   63000,    6308,   18700,   30500,\n",
       "         31721,   28798,    6800,   19200,   25000,   71191,   10212,\n",
       "        140000,  121000,   26000,  108000,  254000,   41975,   55000,\n",
       "        116475,   75000,  116050,   93000,   53536,  103500,   61503,\n",
       "          5100,   24000,   42919,   62000,   32015,   28000,   25000,\n",
       "          8300,   61551,   85000,  148400,  138000,   16900,   54800,\n",
       "         42000,   21000,   24000,   38000,   55400,   40000,   87000,\n",
       "        133600,  226500,   23000,   39000,   50683,   17634,   90980,\n",
       "         23900,   14700,   13000,    3165,   50000,   22429,   30000,\n",
       "         73515,   52000,  135000,   78500,   40000,   70300,   36700,\n",
       "         47000,   66000,   15000,   16000,   14200,   72500,    1464,\n",
       "         39000,   87000,  217250,   18410,   19000,    7400,   15707,\n",
       "         20900,  110000,    8516,   36000,   41200,   50000,   38000,\n",
       "         22450,  260200,   29865,    9057,   53400,   10000,   60000,\n",
       "         47565,   14125,   15800,   75000,   11121,   37369,   72878,\n",
       "          8876,   78600,   59100,  106000,   13309,    5525,    9650,\n",
       "         50928,   31400,   14854,   41500,    8763,   69000,    3545,\n",
       "          6976,   62000,   14960,   12390,   42550,    3200,   16200,\n",
       "         13195,   57000,  169000,   24000,   21000,   64000,   37500,\n",
       "          2371,    7688,    7400,   49000,   54023,   48950,   33000,\n",
       "         46000,    7132,   13000,   11476,   26628,    9400,   49350,\n",
       "          8335,   13500,   13000,   13513,   18100,   16150,    6700,\n",
       "         11900,   18500,   21080,   66780,   33783,   10000,   38000,\n",
       "          2676,   26498,   70863,   15549,   11000,   29800,   16575,\n",
       "         48000,   25000,   65900,   27856,   33000,    7600,    9800,\n",
       "          7900,   15000,   52000,    6600,   57500,   55219,   18450,\n",
       "         21100,   36000,   66500,   40700,   33000,   14000,   55000,\n",
       "          3628,   24375,   42500,   27000,   18450,   12380,   13065,\n",
       "         14000,   12600,   37800,    2384,   28332,    3850,   10471,\n",
       "          3282,   20075,   11170,   25600,   14500,   41750,   31000,\n",
       "         58397,   20000,    9554,   25000,   27000,   12438,    3400,\n",
       "         11500,    8700,   24000,   23992,    1770,   26650,   12600,\n",
       "         11300,    8700,   16500,   27550,   10400,    5732,    3300,\n",
       "          4500,   49800,    6910,    7695,   32965,    7134,   11500,\n",
       "         17000,   18500,    4623,    7608,   28100,    2650,   16200,\n",
       "          7762,    8900,   31000,   14700,    7727,   21000,   14000,\n",
       "         12689,   43000,    5604,    8074,   17140,   19795,   20500,\n",
       "         26000,    9000,   47000,   36384,   76650,    8700,   17000,\n",
       "         59000,   37000,   32000,    4988,   30025,   41000,  150942,\n",
       "         26000,   10299,   44360,   17844,   50000,   77300,   29000,\n",
       "         14400,   34500,      83,   19500,   23000,    4737,  420000,\n",
       "          2372,   27000,    1970,   43000,   15986,    9059,    9500,\n",
       "         22190,    9000,   33500,    7900,    7600,    7000,   21000,\n",
       "         40178,    3055,   20000,   30800,   16021,    7750,    8500,\n",
       "         14000,   90000,   24724,   62000,   13800,   18700,   16027,\n",
       "          3420,   16000,   25000,    8629,   67800,   14000,   18000,\n",
       "          6000,   22166,    5631,   19112,    8500,    7500,    8500,\n",
       "         22000,   15706,   26400,   18100,    4900,   24900,   11800,\n",
       "          4507,   14000,   17600,   12500,    8000,   82000,   16487,\n",
       "         11000,   13105,   16000,   20000,   10900,   37800,   24790,\n",
       "         40000,   19531,   11000,    7000,    6400,   12030,   11900,\n",
       "         20259,   23000,     220,    5930,   32000,    8000,    4754,\n",
       "          4050,   10700,   15700,    1326,   22600,    7000,    2178,\n",
       "          7293,   11870,   11781,    6600,    3727,   17000,    7500,\n",
       "          3626,   19000,   16400,   20000,   23150,   31000,    4200,\n",
       "          8500,    4431,  110000], dtype=int64)"
      ]
     },
     "execution_count": 47,
     "metadata": {},
     "output_type": "execute_result"
    }
   ],
   "source": [
    "fortune.values"
   ]
  },
  {
   "cell_type": "code",
   "execution_count": 70,
   "metadata": {},
   "outputs": [],
   "source": [
    "x = fortune.idxmax()"
   ]
  },
  {
   "cell_type": "code",
   "execution_count": 71,
   "metadata": {},
   "outputs": [
    {
     "data": {
      "text/plain": [
       "'Walmart'"
      ]
     },
     "execution_count": 71,
     "metadata": {},
     "output_type": "execute_result"
    }
   ],
   "source": [
    "x"
   ]
  },
  {
   "cell_type": "code",
   "execution_count": 78,
   "metadata": {},
   "outputs": [],
   "source": [
    "y =fortune.loc[fortune.idxmax()]"
   ]
  },
  {
   "cell_type": "code",
   "execution_count": 81,
   "metadata": {},
   "outputs": [
    {
     "data": {
      "text/plain": [
       "2300000"
      ]
     },
     "execution_count": 81,
     "metadata": {},
     "output_type": "execute_result"
    }
   ],
   "source": [
    "y"
   ]
  },
  {
   "cell_type": "code",
   "execution_count": 83,
   "metadata": {},
   "outputs": [
    {
     "data": {
      "text/plain": [
       "<pandas.core.indexing._LocIndexer at 0xbd84368>"
      ]
     },
     "execution_count": 83,
     "metadata": {},
     "output_type": "execute_result"
    }
   ],
   "source": [
    "fortune.loc()"
   ]
  },
  {
   "cell_type": "code",
   "execution_count": null,
   "metadata": {},
   "outputs": [],
   "source": []
  }
 ],
 "metadata": {
  "kernelspec": {
   "display_name": "Python 3",
   "language": "python",
   "name": "python3"
  },
  "language_info": {
   "codemirror_mode": {
    "name": "ipython",
    "version": 3
   },
   "file_extension": ".py",
   "mimetype": "text/x-python",
   "name": "python",
   "nbconvert_exporter": "python",
   "pygments_lexer": "ipython3",
   "version": "3.7.4"
  }
 },
 "nbformat": 4,
 "nbformat_minor": 2
}
